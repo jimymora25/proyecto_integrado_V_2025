{
  "cells": [
    {
      "cell_type": "code",
      "execution_count": null,
      "metadata": {
        "colab": {
          "base_uri": "https://localhost:8080/"
        },
        "collapsed": true,
        "id": "zRivpiDd86kQ",
        "outputId": "a56bf16d-7a51-4120-d8da-5a529a73cff0"
      },
      "outputs": [
        {
          "name": "stdout",
          "output_type": "stream",
          "text": [
            "                   Open         High          Low        Close       Volume\n",
            "2025-01-01  3332.406494  3366.531494  3310.255859  3353.504150  14195410493\n",
            "2025-01-02  3353.412109  3493.448242  3348.352051  3451.392578  22243574698\n",
            "2025-01-03  3451.680908  3627.055664  3421.831543  3605.009766  21877299255\n",
            "2025-01-04  3605.200684  3669.196777  3574.326904  3657.706787  16060610759\n",
            "2025-01-05  3657.743164  3673.812988  3594.616943  3634.103760  12830306908\n",
            "2025-01-06  3634.113770  3743.941650  3611.214355  3688.611328  23973574043\n",
            "2025-01-07  3688.341309  3701.106934  3358.089844  3381.577393  32235312545\n",
            "2025-01-08  3381.615479  3413.682861  3209.214600  3326.329346  34337730882\n",
            "2025-01-09  3326.359619  3355.862305  3159.384033  3219.430664  28815726276\n",
            "2025-01-10  3219.496582  3320.500488  3196.110352  3267.489990  26503845190\n",
            "2025-01-11  3267.522461  3317.654297  3219.698730  3282.217773  11772144561\n",
            "2025-01-12  3282.150391  3298.018311  3224.510498  3265.951172  11647743556\n",
            "2025-01-13  3266.095459  3335.193604  2920.592773  3135.499756  39911742769\n",
            "2025-01-14  3135.670166  3254.751465  3126.805908  3223.684570  22847737224\n",
            "2025-01-15  3223.684570  3473.101562  3186.139893  3450.537598  25991614661\n",
            "2025-01-16  3450.305176  3458.180664  3265.675781  3308.345215  26395516475\n",
            "2025-01-17  3308.191162  3525.543457  3307.311035  3474.107178  28200207229\n",
            "2025-01-18  3473.563721  3493.060059  3228.333740  3305.789551  32420094038\n",
            "2025-01-19  3305.397949  3444.206543  3127.623047  3208.964355  57242875399\n",
            "2025-01-20  3208.933838  3444.282715  3147.522949  3278.035400  52383187336\n",
            "2025-01-21  3278.436035  3365.778076  3202.492676  3327.406250  32804001146\n",
            "2025-01-22  3327.237305  3364.746094  3223.385986  3240.224609  22171220981\n",
            "2025-01-23  3240.475342  3346.732422  3184.066895  3334.714111  32419520084\n",
            "2025-01-24  3334.808350  3424.899902  3277.323242  3309.554932  25578325671\n",
            "2025-01-25  3309.711670  3349.298340  3270.273193  3317.269531  13744316078\n",
            "2025-01-26  3317.291504  3359.312500  3233.922119  3236.134277  14471528757\n",
            "2025-01-27  3235.855225  3250.396484  3024.091553  3178.920410  39412486482\n",
            "2025-01-28  3179.086914  3222.737305  3040.092285  3077.112549  20718206194\n",
            "2025-01-29  3076.380127  3177.980469  3055.181641  3112.999023  22727786058\n",
            "2025-01-30  3113.289795  3282.986328  3093.123779  3247.780029  19958405782\n",
            "2025-01-31  3247.867188  3437.569092  3214.935547  3298.265137  30128115902\n",
            "2025-02-01  3298.822266  3329.655273  3103.918945  3118.328613  19917507079\n",
            "2025-02-02  3118.611572  3161.894287  2755.474609  2868.692871  42060930305\n",
            "2025-02-03  2868.078613  2919.477295  2159.280518  2884.566650  92453553253\n",
            "2025-02-04  2883.818359  2888.250000  2636.165771  2735.051270  48795275985\n",
            "2025-02-05  2735.225830  2824.400146  2701.104980  2787.779053  31960764447\n",
            "2025-02-06  2787.658691  2857.142090  2662.445801  2688.400879  29500645692\n",
            "2025-02-07  2688.897461  2798.028809  2564.968262  2622.211182  29526663418\n",
            "2025-02-08  2623.001953  2665.484619  2591.778564  2632.308350  17059263074\n",
            "2025-02-09  2632.578125  2695.222412  2530.435791  2628.721191  17517088276\n",
            "2025-02-10  2628.650146  2692.808594  2564.018555  2661.166748  19414208113\n",
            "2025-02-11  2661.315674  2724.902344  2565.397217  2602.781982  21156550492\n",
            "2025-02-12  2602.828125  2794.867432  2551.174561  2736.902100  26919387954\n",
            "2025-02-13  2737.028564  2756.443359  2615.667725  2675.902588  19481004625\n",
            "2025-02-14  2675.939453  2790.023682  2666.268066  2726.091553  17732289901\n",
            "2025-02-15  2726.074707  2738.681152  2668.531738  2693.559814  10803019357\n",
            "2025-02-16  2693.562500  2724.096436  2655.297607  2663.315918  10593602117\n",
            "2025-02-17  2663.229492  2848.784180  2640.182129  2743.199707  24170425078\n",
            "2025-02-18  2743.022949  2754.676758  2606.900391  2669.338867  23004152928\n",
            "2025-02-19  2669.213379  2735.917725  2656.375732  2715.770996  15272401903\n",
            "2025-02-20  2715.682617  2770.030518  2708.216064  2740.386475  15917259320\n",
            "2025-02-21  2740.022217  2842.827148  2616.919434  2659.655518  31441524621\n",
            "2025-02-22  2660.035889  2797.057861  2653.867432  2764.029297  16403164397\n",
            "2025-02-23  2764.031006  2850.610352  2746.773682  2821.310303  20493767269\n",
            "2025-02-24  2820.456299  2839.010010  2478.899414  2513.821289  29127380459\n",
            "2025-02-25  2514.210938  2529.669189  2326.632080  2493.592529  40044790246\n",
            "2025-02-26  2493.381592  2503.422119  2255.054932  2331.452637  28815111323\n",
            "2025-02-27  2331.510254  2378.087402  2230.448242  2305.484375  24286213447\n",
            "2025-02-28  2305.560059  2310.949219  2076.169922  2237.905273  35737904667\n",
            "2025-03-01  2237.942139  2279.873047  2144.090088  2216.643311  16135258239\n",
            "2025-03-02  2216.521729  2548.811768  2175.321533  2519.694580  34854193845\n",
            "2025-03-03  2519.531006  2522.316650  2097.076172  2145.573975  31473561910\n",
            "2025-03-04  2145.652832  2220.358643  1996.767578  2170.015137  33935738380\n",
            "2025-03-05  2169.986816  2272.797363  2156.099365  2241.977295  22105432727\n",
            "2025-03-06  2241.906494  2319.396240  2177.677002  2202.476807  18509069102\n",
            "2025-03-07  2202.498291  2254.232422  2103.472656  2138.987549  22425792863\n",
            "2025-03-08  2139.797852  2232.327148  2107.728027  2201.510254  10533204814\n",
            "2025-03-09  2201.708740  2210.313721  1991.193481  2015.509155  16103964994\n",
            "2025-03-10  2015.430420  2150.706299  1812.766846  1861.151367  35005066442\n",
            "2025-03-11  1859.777710  1961.797729  1760.941772  1919.844971  30898385863\n",
            "2025-03-12  1919.664795  1954.571167  1832.019043  1908.982666  22898872951\n",
            "2025-03-13  1909.015381  1919.688232  1823.525391  1862.969604  17977225564\n",
            "2025-03-14  1862.997925  1945.091431  1861.105957  1909.467529  12122715282\n",
            "2025-03-15  1909.528076  1955.238403  1904.965698  1937.394653   6456484591\n",
            "2025-03-16  1937.384766  1940.474365  1863.489014  1887.435059   9292997638\n",
            "2025-03-17  1887.449219  1951.625977  1880.484375  1927.002930  10436892087\n",
            "2025-03-18  1927.005737  1935.182007  1872.508911  1932.543457  10170844746\n",
            "2025-03-19  1932.544556  2068.764404  1928.249512  2057.749023  20065206266\n",
            "2025-03-20  2057.951172  2067.483643  1952.243286  1982.099854  13217865782\n",
            "2025-03-21  1981.853027  1994.891479  1937.211548  1964.847534   9708125480\n",
            "2025-03-22  1964.940430  2005.041138  1964.270996  1980.037842   6117036512\n",
            "2025-03-23  1979.983643  2019.889404  1977.709351  2005.299194   7522339707\n",
            "2025-03-24  2005.718384  2101.983398  1978.763794  2077.479004  14044912402\n",
            "2025-03-25  2078.568115  2096.518311  2038.644531  2067.764160  11735658914\n",
            "2025-03-26  2067.508789  2078.369141  1982.412354  2009.189331  13178523590\n",
            "2025-03-27  2008.940552  2037.396118  1987.717773  2002.357422  11593274543\n",
            "2025-03-28  2002.410522  2015.454346  1863.010620  1895.502930  18160526498\n",
            "2025-03-29  1895.549683  1911.900879  1799.200806  1827.320312  12194771785\n",
            "2025-03-30  1827.311035  1847.570557  1769.412720  1806.218628   9854857162\n",
            "2025-03-31  1806.316528  1852.551392  1778.692261  1823.479980  15765030938\n",
            "2025-04-01  1823.562378  1926.302979  1820.350342  1905.491455  15001220420\n",
            "2025-04-02  1905.484619  1951.180298  1782.760254  1795.313232  22593742104\n",
            "2025-04-03  1794.976074  1844.071045  1751.380859  1815.637207  16450974373\n",
            "2025-04-04  1815.609863  1833.956787  1760.588623  1815.335205  18061720814\n",
            "2025-04-05  1815.344971  1826.298584  1767.513550  1805.973267   6374712479\n",
            "2025-04-06  1805.963013  1815.574829  1539.437988  1576.728027  22154445576\n",
            "2025-04-07  1576.949829  1634.041138  1415.373535  1555.240967  46073959047\n",
            "2025-04-08  1554.932129  1617.339844  1447.610107  1472.553101  21315312919\n",
            "2025-04-09  1472.601440  1687.187988  1386.799316  1668.040039  39252195855\n",
            "2025-04-10  1668.201782  1669.394165  1474.914185  1522.518799  21379604307\n",
            "2025-04-11  1522.473022  1587.538574  1505.001953  1567.149780  14871838813\n",
            "2025-04-12  1567.155762  1666.017578  1546.819580  1643.528564  12110995013\n",
            "2025-04-13  1643.501099  1648.286743  1564.838867  1596.685791  13909890792\n",
            "2025-04-14  1596.881836  1689.857544  1596.086548  1622.769897  16518325094\n",
            "2025-04-15  1622.771851  1659.836182  1585.229126  1588.632446  13175452875\n",
            "2025-04-16  1589.031006  1610.782104  1540.033813  1578.105347  15339621551\n",
            "2025-04-17  1578.014160  1615.306885  1564.195679  1582.548340  11312160796\n",
            "2025-04-18  1582.397217  1599.416870  1573.903931  1588.924683   7123507323\n",
            "2025-04-19  1588.969727  1629.051514  1585.473022  1612.922852   7168138700\n",
            "2025-04-20  1612.966064  1618.436768  1566.691528  1587.514282   7642784469\n",
            "2025-04-21  1587.460938  1656.119629  1566.147461  1579.734497  15403785611\n",
            "2025-04-22  1579.815186  1773.639160  1542.000366  1757.331665  23747917555\n",
            "2025-04-23  1757.196533  1829.709961  1746.924072  1796.104248  22904644756\n",
            "2025-04-24  1795.979492  1801.691406  1724.740723  1769.831665  15207402759\n",
            "2025-04-25  1770.003662  1826.696045  1740.331909  1786.634521  17459399281\n",
            "2025-04-26  1786.532959  1839.363037  1781.473877  1821.881104  11926379867\n",
            "2025-04-27  1821.758911  1852.489990  1790.801758  1803.452271  10353743872\n"
          ]
        }
      ],
      "source": [
        "import yfinance as yf\n",
        "import pandas as pd\n",
        "import sqlite3\n",
        "\n",
        "# Descargar datos históricos de Ethereum\n",
        "eth = yf.Ticker(\"ETH-USD\")\n",
        "hist = eth.history(period=\"max\")\n",
        "\n",
        "# Filtrar solo el año 2025\n",
        "hist_2025 = hist.loc[\"2025\"]\n",
        "\n",
        "# Eliminar la hora del índice\n",
        "hist_2025.index = hist_2025.index.date\n",
        "\n",
        "# Eliminar las columnas \"Dividends\" y \"Stock Splits\" si existen\n",
        "hist_2025 = hist_2025.drop(columns=[\"Dividends\", \"Stock Splits\"], errors=\"ignore\")\n",
        "\n",
        "# Mostrar datos sin esas columnas\n",
        "pd.set_option('display.max_rows', None)\n",
        "print(hist_2025)\n"
      ]
    },
    {
      "cell_type": "markdown",
      "metadata": {
        "id": "DUUoa086J7kq"
      },
      "source": [
        "#Conexión a la base da datos SQLite"
      ]
    },
    {
      "cell_type": "code",
      "execution_count": 6,
      "metadata": {
        "colab": {
          "base_uri": "https://localhost:8080/",
          "height": 176
        },
        "id": "nBAVjuAwJ6vU",
        "outputId": "7e5c1240-7cff-43d0-ea31-e163656f626e"
      },
      "outputs": [
        {
          "ename": "OperationalError",
          "evalue": "unable to open database file",
          "output_type": "error",
          "traceback": [
            "\u001b[0;31m---------------------------------------------------------------------------\u001b[0m",
            "\u001b[0;31mOperationalError\u001b[0m                          Traceback (most recent call last)",
            "\u001b[0;32m<ipython-input-6-4f80a7b74d8e>\u001b[0m in \u001b[0;36m<cell line: 0>\u001b[0;34m()\u001b[0m\n\u001b[1;32m      1\u001b[0m \u001b[0;31m# Conectar a la base de datos SQLite (se creará si no existe)\u001b[0m\u001b[0;34m\u001b[0m\u001b[0;34m\u001b[0m\u001b[0m\n\u001b[0;32m----> 2\u001b[0;31m \u001b[0mconn\u001b[0m \u001b[0;34m=\u001b[0m \u001b[0msqlite3\u001b[0m\u001b[0;34m.\u001b[0m\u001b[0mconnect\u001b[0m\u001b[0;34m(\u001b[0m\u001b[0;34m'src/data/historical.db'\u001b[0m\u001b[0;34m)\u001b[0m\u001b[0;34m\u001b[0m\u001b[0;34m\u001b[0m\u001b[0m\n\u001b[0m\u001b[1;32m      3\u001b[0m \u001b[0mcursor\u001b[0m \u001b[0;34m=\u001b[0m \u001b[0mconn\u001b[0m\u001b[0;34m.\u001b[0m\u001b[0mcursor\u001b[0m\u001b[0;34m(\u001b[0m\u001b[0;34m)\u001b[0m\u001b[0;34m\u001b[0m\u001b[0;34m\u001b[0m\u001b[0m\n",
            "\u001b[0;31mOperationalError\u001b[0m: unable to open database file"
          ]
        }
      ],
      "source": [
        "# Conectar a la base de datos SQLite (se creará si no existe)\n",
        "conn = sqlite3.connect('src/data/historical.db')\n",
        "cursor = conn.cursor()"
      ]
    },
    {
      "cell_type": "code",
      "execution_count": 2,
      "metadata": {
        "colab": {
          "base_uri": "https://localhost:8080/"
        },
        "id": "C3QPIURE9z6Q",
        "outputId": "174ec072-fd95-489e-9a1f-e5f35ca8405a"
      },
      "outputs": [
        {
          "name": "stdout",
          "output_type": "stream",
          "text": [
            "Datos guardados como ETH-USD_2025.csv y ETH-USD_2025.xlsx\n"
          ]
        }
      ],
      "source": [
        "#para guardarlo como excel y csv\n",
        "import yfinance as yf\n",
        "import pandas as pd\n",
        "\n",
        "# Descargar datos históricos de Ethereum\n",
        "eth = yf.Ticker(\"ETH-USD\")\n",
        "hist = eth.history(period=\"max\")\n",
        "\n",
        "# Filtrar solo datos del año 2025\n",
        "hist_2025 = hist.loc[\"2025\"]\n",
        "\n",
        "# Eliminar la hora del índice\n",
        "hist_2025.index = hist_2025.index.date\n",
        "\n",
        "# Eliminar columnas no deseadas\n",
        "hist_2025 = hist_2025.drop(columns=[\"Dividends\", \"Stock Splits\"], errors=\"ignore\")\n",
        "\n",
        "# Guardar en CSV\n",
        "hist_2025.to_csv(\"ETH-USD_2025.csv\")\n",
        "\n",
        "# Guardar en Excel\n",
        "hist_2025.to_excel(\"ETH-USD_2025.xlsx\")\n",
        "\n",
        "# Confirmación\n",
        "print(\"Datos guardados como ETH-USD_2025.csv y ETH-USD_2025.xlsx\")\n"
      ]
    },
    {
      "cell_type": "code",
      "execution_count": 3,
      "metadata": {
        "colab": {
          "base_uri": "https://localhost:8080/",
          "height": 17
        },
        "id": "57tZq_By-lPs",
        "outputId": "f28ae29e-e467-4f20-b3e0-96d90e557791"
      },
      "outputs": [
        {
          "data": {
            "application/javascript": "\n    async function download(id, filename, size) {\n      if (!google.colab.kernel.accessAllowed) {\n        return;\n      }\n      const div = document.createElement('div');\n      const label = document.createElement('label');\n      label.textContent = `Downloading \"${filename}\": `;\n      div.appendChild(label);\n      const progress = document.createElement('progress');\n      progress.max = size;\n      div.appendChild(progress);\n      document.body.appendChild(div);\n\n      const buffers = [];\n      let downloaded = 0;\n\n      const channel = await google.colab.kernel.comms.open(id);\n      // Send a message to notify the kernel that we're ready.\n      channel.send({})\n\n      for await (const message of channel.messages) {\n        // Send a message to notify the kernel that we're ready.\n        channel.send({})\n        if (message.buffers) {\n          for (const buffer of message.buffers) {\n            buffers.push(buffer);\n            downloaded += buffer.byteLength;\n            progress.value = downloaded;\n          }\n        }\n      }\n      const blob = new Blob(buffers, {type: 'application/binary'});\n      const a = document.createElement('a');\n      a.href = window.URL.createObjectURL(blob);\n      a.download = filename;\n      div.appendChild(a);\n      a.click();\n      div.remove();\n    }\n  ",
            "text/plain": [
              "<IPython.core.display.Javascript object>"
            ]
          },
          "metadata": {},
          "output_type": "display_data"
        },
        {
          "data": {
            "application/javascript": "download(\"download_06e8ea97-4e37-4720-9fb6-86a3f3859695\", \"ETH-USD_2025.csv\", 10763)",
            "text/plain": [
              "<IPython.core.display.Javascript object>"
            ]
          },
          "metadata": {},
          "output_type": "display_data"
        },
        {
          "data": {
            "application/javascript": "\n    async function download(id, filename, size) {\n      if (!google.colab.kernel.accessAllowed) {\n        return;\n      }\n      const div = document.createElement('div');\n      const label = document.createElement('label');\n      label.textContent = `Downloading \"${filename}\": `;\n      div.appendChild(label);\n      const progress = document.createElement('progress');\n      progress.max = size;\n      div.appendChild(progress);\n      document.body.appendChild(div);\n\n      const buffers = [];\n      let downloaded = 0;\n\n      const channel = await google.colab.kernel.comms.open(id);\n      // Send a message to notify the kernel that we're ready.\n      channel.send({})\n\n      for await (const message of channel.messages) {\n        // Send a message to notify the kernel that we're ready.\n        channel.send({})\n        if (message.buffers) {\n          for (const buffer of message.buffers) {\n            buffers.push(buffer);\n            downloaded += buffer.byteLength;\n            progress.value = downloaded;\n          }\n        }\n      }\n      const blob = new Blob(buffers, {type: 'application/binary'});\n      const a = document.createElement('a');\n      a.href = window.URL.createObjectURL(blob);\n      a.download = filename;\n      div.appendChild(a);\n      a.click();\n      div.remove();\n    }\n  ",
            "text/plain": [
              "<IPython.core.display.Javascript object>"
            ]
          },
          "metadata": {},
          "output_type": "display_data"
        },
        {
          "data": {
            "application/javascript": "download(\"download_60c7ec77-9c9c-4624-bfd3-79108cf96db5\", \"ETH-USD_2025.xlsx\", 11500)",
            "text/plain": [
              "<IPython.core.display.Javascript object>"
            ]
          },
          "metadata": {},
          "output_type": "display_data"
        }
      ],
      "source": [
        "# Guardar en archivos locales dentro de Colab\n",
        "hist_2025.to_csv(\"/content/ETH-USD_2025.csv\")\n",
        "hist_2025.to_excel(\"/content/ETH-USD_2025.xlsx\")\n",
        "\n",
        "# Mostrar links para descarga\n",
        "from google.colab import files\n",
        "files.download(\"/content/ETH-USD_2025.csv\")\n",
        "files.download(\"/content/ETH-USD_2025.xlsx\")\n"
      ]
    }
  ],
  "metadata": {
    "colab": {
      "provenance": []
    },
    "kernelspec": {
      "display_name": "Python 3",
      "name": "python3"
    },
    "language_info": {
      "name": "python"
    }
  },
  "nbformat": 4,
  "nbformat_minor": 0
}
